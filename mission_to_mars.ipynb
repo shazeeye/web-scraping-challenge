{
 "cells": [
  {
   "cell_type": "code",
   "execution_count": 1,
   "metadata": {},
   "outputs": [],
   "source": [
    "# Dependencies and Setup\n",
    "\n",
    "from splinter import Browser\n",
    "import requests as req\n",
    "import pymongo\n",
    "from bs4 import BeautifulSoup as bs\n",
    "import time\n",
    "from selenium import webdriver\n",
    "import pandas as pd\n"
   ]
  },
  {
   "cell_type": "code",
   "execution_count": 2,
   "metadata": {},
   "outputs": [
    {
     "name": "stdout",
     "output_type": "stream",
     "text": [
      "/usr/local/bin/chromedriver\r\n"
     ]
    }
   ],
   "source": [
    "!which chromedriver"
   ]
  },
  {
   "cell_type": "code",
   "execution_count": 19,
   "metadata": {},
   "outputs": [],
   "source": [
    "\n",
    "# @NOTE: Replace the path with your actual path to the chromedriver\n",
    "#executable_path = {\"executable_path\": \"/usr/local/bin/chromedriver\"}\n",
    "executable_path = {\"executable_path\": \"/usr/local/Caskroom/chromedriver/80.0.3987.16/chromedriver\"}\n",
    "browser=Browser(\"chrome\", **executable_path, headless=False)\n",
    "\n",
    " \n"
   ]
  },
  {
   "cell_type": "markdown",
   "metadata": {},
   "source": [
    "### Step 1: Scraping for latest News Article\n"
   ]
  },
  {
   "cell_type": "code",
   "execution_count": 20,
   "metadata": {},
   "outputs": [],
   "source": [
    "\n",
    "# Visit website to scrape Mars mission\n",
    "#url = \"https://mars.nasa.gov/news/\"\n",
    "url=\"https://mars.nasa.gov/news/\"\n",
    "#browser.visit(url)\n",
    "\n",
    "#time.sleep(1)\n",
    "\n",
    "# Scrape page into Soup\n",
    "#html = browser.html\n",
    "#soup = bs(html, 'html.parser')\n",
    "#soup = bs(html, 'lxml')"
   ]
  },
  {
   "cell_type": "code",
   "execution_count": 21,
   "metadata": {},
   "outputs": [
    {
     "name": "stdout",
     "output_type": "stream",
     "text": [
      "\n",
      "\n",
      "NASA Prepares for Moon and Mars With New Addition to Its Deep Space Network\n",
      "\n",
      "\n",
      "\n",
      "Robotic spacecraft will be able to communicate with the dish using radio waves and lasers.\n",
      "\n"
     ]
    }
   ],
   "source": [
    "driver = webdriver.Chrome()\n",
    "driver.get(url)\n",
    "\n",
    "response = req.get(url)\n",
    "time.sleep(10)\n",
    "soup = bs(response.text, 'html5lib')\n",
    "#soup = bs(response.text, 'html.parser')\n",
    "news_title = soup.find(\"div\", class_=\"content_title\").text\n",
    "news_p = soup.find(\"div\", class_=\"rollover_description_inner\").text\n",
    "#paragraph_text = soup.find(\"div\", class_=\"article_teaser_body\").text\n",
    "print(news_title)\n",
    "print(news_p)"
   ]
  },
  {
   "cell_type": "markdown",
   "metadata": {},
   "source": [
    "## Step 1: Getting Mars Featured Image"
   ]
  },
  {
   "cell_type": "code",
   "execution_count": 38,
   "metadata": {},
   "outputs": [
    {
     "name": "stdout",
     "output_type": "stream",
     "text": [
      "https://www.jpl.nasa.gov/spaceimages/images/largesize/PIA16919_hires.jpg\n"
     ]
    }
   ],
   "source": [
    "executable_path = {\"executable_path\": \"/usr/local/Caskroom/chromedriver/80.0.3987.16/chromedriver\"}\n",
    "browser=Browser(\"chrome\", **executable_path, headless=False)\n",
    "\n",
    "url = 'https://www.jpl.nasa.gov/spaceimages/?search=&category=Mars'\n",
    "browser.visit(url)   \n",
    "time.sleep(5)\n",
    "\n",
    "# Scrape page into Soup\n",
    "html = browser.html\n",
    "soup = bs(html, 'html.parser')\n",
    "\n",
    "#Clicking on button 'Full Image' to get large image\n",
    "browser.click_link_by_partial_text('FULL IMAGE')\n",
    "browser.click_link_by_partial_text('more info')\n",
    "new_html = browser.html\n",
    "new_soup = bs(new_html, 'html.parser')\n",
    "#temp_img_url = new_soup.find('img', class_='main_image')\n",
    "#back_half_img_url = temp_img_url.get('src')\n",
    "#result = new_soup.find('figure')  \n",
    "#print(result)\n",
    "result = new_soup.find('figure').find('img')['src'] \n",
    "featured_image_url = f'https://www.jpl.nasa.gov{result}'\n",
    "print(featured_image_url)\n",
    "\n",
    "#image_url = \"https://www.jpl.nasa.gov\" + back_half_img_url\n",
    "\n",
    "#print(image_url)"
   ]
  },
  {
   "cell_type": "markdown",
   "metadata": {},
   "source": [
    "Step 1: Scraping Mars weather from Twitter"
   ]
  },
  {
   "cell_type": "code",
   "execution_count": 25,
   "metadata": {},
   "outputs": [
    {
     "name": "stdout",
     "output_type": "stream",
     "text": [
      "InSight sol 441 (2020-02-22) low -95.1ºC (-139.1ºF) high -13.5ºC (7.7ºF)\n",
      "winds from the SSE at 6.2 m/s (13.8 mph) gusting to 21.0 m/s (47.0 mph)\n",
      "pressure at 6.30 hPapic.twitter.com/ztf0TqK14M\n"
     ]
    }
   ],
   "source": [
    "#URL of page to be scraped\n",
    "url = 'https://twitter.com/marswxreport?lang=en'\n",
    "\n",
    "#Pulling in data using this text as the other says Chrome not accessible\n",
    "driver = webdriver.Chrome()\n",
    "driver.get(url)\n",
    "html=req.get(url)\n",
    "#html = browser.html\n",
    "\n",
    "\n",
    "# Create BeautifulSoup object\n",
    "soup = bs(html.text, 'html.parser')\n",
    "#soup = bs(html, 'lxml')\n",
    "\n",
    "#Tweet text\n",
    "tweets = soup.find('ol', class_='stream-items')\n",
    "mars_weather = tweets.find('p', class_=\"tweet-text\").text\n",
    "#mars_weather = soup.find('div', class_=\"css-901oao r-hkyrab r-1qd0xha r-a023e6 r-16dba41 r-ad9z0x r-bcqeeo r-bnwqim r-qvutc0\").find('span').text\n",
    "\n",
    "print(mars_weather)"
   ]
  },
  {
   "cell_type": "markdown",
   "metadata": {},
   "source": [
    "Step 1: Scraping Mars Facts"
   ]
  },
  {
   "cell_type": "code",
   "execution_count": 44,
   "metadata": {},
   "outputs": [
    {
     "data": {
      "text/html": [
       "<div>\n",
       "<style scoped>\n",
       "    .dataframe tbody tr th:only-of-type {\n",
       "        vertical-align: middle;\n",
       "    }\n",
       "\n",
       "    .dataframe tbody tr th {\n",
       "        vertical-align: top;\n",
       "    }\n",
       "\n",
       "    .dataframe thead th {\n",
       "        text-align: right;\n",
       "    }\n",
       "</style>\n",
       "<table border=\"1\" class=\"dataframe\">\n",
       "  <thead>\n",
       "    <tr style=\"text-align: right;\">\n",
       "      <th></th>\n",
       "      <th>Description</th>\n",
       "      <th>Value</th>\n",
       "    </tr>\n",
       "  </thead>\n",
       "  <tbody>\n",
       "    <tr>\n",
       "      <th>0</th>\n",
       "      <td>Equatorial Diameter:</td>\n",
       "      <td>6,792 km</td>\n",
       "    </tr>\n",
       "    <tr>\n",
       "      <th>1</th>\n",
       "      <td>Polar Diameter:</td>\n",
       "      <td>6,752 km</td>\n",
       "    </tr>\n",
       "    <tr>\n",
       "      <th>2</th>\n",
       "      <td>Mass:</td>\n",
       "      <td>6.39 × 10^23 kg (0.11 Earths)</td>\n",
       "    </tr>\n",
       "    <tr>\n",
       "      <th>3</th>\n",
       "      <td>Moons:</td>\n",
       "      <td>2 (Phobos &amp; Deimos)</td>\n",
       "    </tr>\n",
       "    <tr>\n",
       "      <th>4</th>\n",
       "      <td>Orbit Distance:</td>\n",
       "      <td>227,943,824 km (1.38 AU)</td>\n",
       "    </tr>\n",
       "    <tr>\n",
       "      <th>5</th>\n",
       "      <td>Orbit Period:</td>\n",
       "      <td>687 days (1.9 years)</td>\n",
       "    </tr>\n",
       "    <tr>\n",
       "      <th>6</th>\n",
       "      <td>Surface Temperature:</td>\n",
       "      <td>-87 to -5 °C</td>\n",
       "    </tr>\n",
       "    <tr>\n",
       "      <th>7</th>\n",
       "      <td>First Record:</td>\n",
       "      <td>2nd millennium BC</td>\n",
       "    </tr>\n",
       "    <tr>\n",
       "      <th>8</th>\n",
       "      <td>Recorded By:</td>\n",
       "      <td>Egyptian astronomers</td>\n",
       "    </tr>\n",
       "  </tbody>\n",
       "</table>\n",
       "</div>"
      ],
      "text/plain": [
       "            Description                          Value\n",
       "0  Equatorial Diameter:                       6,792 km\n",
       "1       Polar Diameter:                       6,752 km\n",
       "2                 Mass:  6.39 × 10^23 kg (0.11 Earths)\n",
       "3                Moons:            2 (Phobos & Deimos)\n",
       "4       Orbit Distance:       227,943,824 km (1.38 AU)\n",
       "5         Orbit Period:           687 days (1.9 years)\n",
       "6  Surface Temperature:                   -87 to -5 °C\n",
       "7         First Record:              2nd millennium BC\n",
       "8          Recorded By:           Egyptian astronomers"
      ]
     },
     "execution_count": 44,
     "metadata": {},
     "output_type": "execute_result"
    }
   ],
   "source": [
    "mars_facts_url = \"https://space-facts.com/mars/\"\n",
    "\n",
    "# read html into pandas\n",
    "tables = pd.read_html(mars_facts_url)\n",
    "\n",
    "# It returns 3 tables. The first has the data needed.\n",
    "\n",
    "df = tables[0]\n",
    "df.columns = [\"Description\", \"Value\"]\n",
    "df"
   ]
  },
  {
   "cell_type": "code",
   "execution_count": 45,
   "metadata": {},
   "outputs": [
    {
     "data": {
      "text/plain": [
       "'<table border=\"1\" class=\"dataframe\">\\n  <thead>\\n    <tr style=\"text-align: right;\">\\n      <th>Description</th>\\n      <th>Value</th>\\n    </tr>\\n  </thead>\\n  <tbody>\\n    <tr>\\n      <td>Equatorial Diameter:</td>\\n      <td>6,792 km</td>\\n    </tr>\\n    <tr>\\n      <td>Polar Diameter:</td>\\n      <td>6,752 km</td>\\n    </tr>\\n    <tr>\\n      <td>Mass:</td>\\n      <td>6.39 × 10^23 kg (0.11 Earths)</td>\\n    </tr>\\n    <tr>\\n      <td>Moons:</td>\\n      <td>2 (Phobos &amp; Deimos)</td>\\n    </tr>\\n    <tr>\\n      <td>Orbit Distance:</td>\\n      <td>227,943,824 km (1.38 AU)</td>\\n    </tr>\\n    <tr>\\n      <td>Orbit Period:</td>\\n      <td>687 days (1.9 years)</td>\\n    </tr>\\n    <tr>\\n      <td>Surface Temperature:</td>\\n      <td>-87 to -5 °C</td>\\n    </tr>\\n    <tr>\\n      <td>First Record:</td>\\n      <td>2nd millennium BC</td>\\n    </tr>\\n    <tr>\\n      <td>Recorded By:</td>\\n      <td>Egyptian astronomers</td>\\n    </tr>\\n  </tbody>\\n</table>'"
      ]
     },
     "execution_count": 45,
     "metadata": {},
     "output_type": "execute_result"
    }
   ],
   "source": [
    "# convert to html table\n",
    "\n",
    "mars_facts_html=df.to_html(index=False)\n",
    "\n",
    "mars_facts_html"
   ]
  },
  {
   "cell_type": "markdown",
   "metadata": {},
   "source": [
    "Step 1: Scraping Mars hemispheres"
   ]
  },
  {
   "cell_type": "code",
   "execution_count": 28,
   "metadata": {},
   "outputs": [],
   "source": [
    "# define url and open in browser\n",
    "mars_hemispheres_url = \"https://astrogeology.usgs.gov/search/results?q=hemisphere+enhanced&k1=target&v1=Mars\"\n",
    "\n",
    "browser.visit(mars_hemispheres_url)"
   ]
  },
  {
   "cell_type": "markdown",
   "metadata": {},
   "source": [
    "Getting Cerberus image link and title"
   ]
  },
  {
   "cell_type": "code",
   "execution_count": 29,
   "metadata": {},
   "outputs": [
    {
     "name": "stderr",
     "output_type": "stream",
     "text": [
      "/opt/anaconda3/envs/PythonData/lib/python3.7/site-packages/splinter/driver/webdriver/__init__.py:528: FutureWarning: browser.find_link_by_partial_text is deprecated. Use browser.links.find_by_partial_text instead.\n",
      "  FutureWarning,\n"
     ]
    }
   ],
   "source": [
    "# click on the link for the Cerberus hemisphere\n",
    "\n",
    "browser.click_link_by_partial_text('Cerberus')"
   ]
  },
  {
   "cell_type": "code",
   "execution_count": null,
   "metadata": {},
   "outputs": [],
   "source": [
    "# click on the open button to get to enhanced picture\n",
    "browser.click_link_by_partial_text('Open')"
   ]
  },
  {
   "cell_type": "code",
   "execution_count": 30,
   "metadata": {},
   "outputs": [
    {
     "name": "stdout",
     "output_type": "stream",
     "text": [
      "https://astrogeology.usgs.gov/cache/images/cfa62af2557222a02478f1fcd781d445_cerberus_enhanced.tif_full.jpg\n"
     ]
    }
   ],
   "source": [
    "# create a soup item\n",
    "hemispheres_html = browser.html\n",
    "cerberus_soup = bs(hemispheres_html, 'html.parser')\n",
    "\n",
    "cerberus = cerberus_soup.find('img', class_ = 'wide-image')\n",
    "cerberus_img = cerberus['src']\n",
    "\n",
    "hem_base_url = 'https://astrogeology.usgs.gov'\n",
    "cerberus_url = hem_base_url + cerberus_img\n",
    "print(cerberus_url)"
   ]
  },
  {
   "cell_type": "markdown",
   "metadata": {},
   "source": [
    "Getting Schiaparelli image link and title"
   ]
  },
  {
   "cell_type": "code",
   "execution_count": 31,
   "metadata": {},
   "outputs": [],
   "source": [
    "# click on the link for the Schiaparelli hemisphere\n",
    "browser.click_link_by_partial_text('Schiaparelli')\n",
    "# click on the open button to get to enhanced picture\n",
    "browser.click_link_by_partial_text('Open')"
   ]
  },
  {
   "cell_type": "code",
   "execution_count": 32,
   "metadata": {},
   "outputs": [
    {
     "name": "stdout",
     "output_type": "stream",
     "text": [
      "https://astrogeology.usgs.gov/cache/images/cfa62af2557222a02478f1fcd781d445_cerberus_enhanced.tif_full.jpg\n"
     ]
    }
   ],
   "source": [
    "# create a soup item\n",
    "hemispheres_html = browser.html\n",
    "schiaparelli_soup = bs(hemispheres_html, 'html.parser')\n",
    "\n",
    "schiaparelli = schiaparelli_soup.find('img', class_ = 'wide-image')\n",
    "schiaparelli_img = schiaparelli['src']\n",
    "\n",
    "hem_base_url = 'https://astrogeology.usgs.gov'\n",
    "schiaparelli_url = hem_base_url + schiaparelli_img\n",
    "print(schiaparelli_url)"
   ]
  },
  {
   "cell_type": "markdown",
   "metadata": {},
   "source": [
    "Getting Syrtis image link and title"
   ]
  },
  {
   "cell_type": "code",
   "execution_count": 33,
   "metadata": {},
   "outputs": [],
   "source": [
    "# click on the link for the Syrtis hemisphere\n",
    "browser.click_link_by_partial_text('Syrtis')\n",
    "# click on the open button to get to enhanced picture\n",
    "browser.click_link_by_partial_text('Open')"
   ]
  },
  {
   "cell_type": "code",
   "execution_count": 34,
   "metadata": {},
   "outputs": [
    {
     "name": "stdout",
     "output_type": "stream",
     "text": [
      "https://astrogeology.usgs.gov/cache/images/cfa62af2557222a02478f1fcd781d445_cerberus_enhanced.tif_full.jpg\n"
     ]
    }
   ],
   "source": [
    "# create a soup item\n",
    "hemispheres_html = browser.html\n",
    "syrtis_soup = bs(hemispheres_html, 'html.parser')\n",
    "\n",
    "syrtis = syrtis_soup.find('img', class_ = 'wide-image')\n",
    "syrtis_img = schiaparelli['src']\n",
    "\n",
    "hem_base_url = 'https://astrogeology.usgs.gov'\n",
    "syrtis_url = hem_base_url + syrtis_img\n",
    "print(syrtis_url)"
   ]
  },
  {
   "cell_type": "markdown",
   "metadata": {},
   "source": [
    "Getting Valles image link and title"
   ]
  },
  {
   "cell_type": "code",
   "execution_count": 35,
   "metadata": {},
   "outputs": [],
   "source": [
    "# click on the link for the Valles hemisphere\n",
    "browser.click_link_by_partial_text('Valles')\n",
    "# click on the open button to get to enhanced picture\n",
    "browser.click_link_by_partial_text('Open')"
   ]
  },
  {
   "cell_type": "code",
   "execution_count": 36,
   "metadata": {},
   "outputs": [
    {
     "name": "stdout",
     "output_type": "stream",
     "text": [
      "https://astrogeology.usgs.gov/cache/images/cfa62af2557222a02478f1fcd781d445_cerberus_enhanced.tif_full.jpg\n"
     ]
    }
   ],
   "source": [
    "# create a soup item\n",
    "hemispheres_html = browser.html\n",
    "valles_soup = bs(hemispheres_html, 'html.parser')\n",
    "\n",
    "valles = valles_soup.find('img', class_ = 'wide-image')\n",
    "valles_img = valles['src']\n",
    "\n",
    "hem_base_url = 'https://astrogeology.usgs.gov'\n",
    "valles_url = hem_base_url + valles_img\n",
    "print(valles_url)"
   ]
  },
  {
   "cell_type": "markdown",
   "metadata": {},
   "source": [
    "## Defining overall dictionary (hemispheres, weather, etc.)"
   ]
  },
  {
   "cell_type": "code",
   "execution_count": 37,
   "metadata": {},
   "outputs": [
    {
     "data": {
      "text/plain": [
       "{'latestheadline': '\\n\\nNASA Prepares for Moon and Mars With New Addition to Its Deep Space Network\\n\\n',\n",
       " 'latestparagraph': '\\nRobotic spacecraft will be able to communicate with the dish using radio waves and lasers.\\n',\n",
       " 'featuredimage': 'https://www.jpl.nasa.gov/spaceimages/images/largesize/PIA19083_hires.jpg',\n",
       " 'currentweather': 'InSight sol 441 (2020-02-22) low -95.1ºC (-139.1ºF) high -13.5ºC (7.7ºF)\\nwinds from the SSE at 6.2 m/s (13.8 mph) gusting to 21.0 m/s (47.0 mph)\\npressure at 6.30 hPapic.twitter.com/ztf0TqK14M',\n",
       " 'factstable': '<table border=\"1\" class=\"dataframe\">\\n  <thead>\\n    <tr style=\"text-align: right;\">\\n      <th></th>\\n      <th>Description</th>\\n      <th>Value</th>\\n    </tr>\\n  </thead>\\n  <tbody>\\n    <tr>\\n      <th>0</th>\\n      <td>Equatorial Diameter:</td>\\n      <td>6,792 km</td>\\n    </tr>\\n    <tr>\\n      <th>1</th>\\n      <td>Polar Diameter:</td>\\n      <td>6,752 km</td>\\n    </tr>\\n    <tr>\\n      <th>2</th>\\n      <td>Mass:</td>\\n      <td>6.39 × 10^23 kg (0.11 Earths)</td>\\n    </tr>\\n    <tr>\\n      <th>3</th>\\n      <td>Moons:</td>\\n      <td>2 (Phobos &amp; Deimos)</td>\\n    </tr>\\n    <tr>\\n      <th>4</th>\\n      <td>Orbit Distance:</td>\\n      <td>227,943,824 km (1.38 AU)</td>\\n    </tr>\\n    <tr>\\n      <th>5</th>\\n      <td>Orbit Period:</td>\\n      <td>687 days (1.9 years)</td>\\n    </tr>\\n    <tr>\\n      <th>6</th>\\n      <td>Surface Temperature:</td>\\n      <td>-87 to -5 °C</td>\\n    </tr>\\n    <tr>\\n      <th>7</th>\\n      <td>First Record:</td>\\n      <td>2nd millennium BC</td>\\n    </tr>\\n    <tr>\\n      <th>8</th>\\n      <td>Recorded By:</td>\\n      <td>Egyptian astronomers</td>\\n    </tr>\\n  </tbody>\\n</table>',\n",
       " 'valles_hemisphere_title': 'Valles Marineris Hemisphere',\n",
       " 'valles_img_url': 'https://astrogeology.usgs.gov/cache/images/cfa62af2557222a02478f1fcd781d445_cerberus_enhanced.tif_full.jpg',\n",
       " 'cerberus_hemisphere_title': 'Cerberus Hemisphere',\n",
       " 'cerberus_img_url': 'https://astrogeology.usgs.gov/cache/images/cfa62af2557222a02478f1fcd781d445_cerberus_enhanced.tif_full.jpg',\n",
       " 'schiaparelli_hemisphere_title': 'Schiaparelli Marineris Hemisphere',\n",
       " 'schiaparelli_img_url': 'https://astrogeology.usgs.gov/cache/images/cfa62af2557222a02478f1fcd781d445_cerberus_enhanced.tif_full.jpg',\n",
       " 'syrtis_hemisphere_title': 'Syrtis Major Hemisphere',\n",
       " 'syrtis_img_url': 'https://astrogeology.usgs.gov/cache/images/cfa62af2557222a02478f1fcd781d445_cerberus_enhanced.tif_full.jpg'}"
      ]
     },
     "execution_count": 37,
     "metadata": {},
     "output_type": "execute_result"
    }
   ],
   "source": [
    "mars_dictionary = {\n",
    "        'latestheadline': news_title,\n",
    "        'latestparagraph':  news_p,\n",
    "        'featuredimage': image_url,\n",
    "        'currentweather': mars_weather,\n",
    "        'factstable': mars_facts_html,\n",
    "        'valles_hemisphere_title': \"Valles Marineris Hemisphere\", \"valles_img_url\": valles_url,\n",
    "        'cerberus_hemisphere_title': \"Cerberus Hemisphere\", \"cerberus_img_url\": cerberus_url,\n",
    "        'schiaparelli_hemisphere_title': \"Schiaparelli Marineris Hemisphere\", \"schiaparelli_img_url\": schiaparelli_url,\n",
    "        'syrtis_hemisphere_title': \"Syrtis Major Hemisphere\", \"syrtis_img_url\": syrtis_url \n",
    "    }\n",
    "mars_dictionary"
   ]
  },
  {
   "cell_type": "code",
   "execution_count": null,
   "metadata": {},
   "outputs": [],
   "source": []
  }
 ],
 "metadata": {
  "anaconda-cloud": {},
  "kernelspec": {
   "display_name": "Python 3",
   "language": "python",
   "name": "python3"
  },
  "language_info": {
   "codemirror_mode": {
    "name": "ipython",
    "version": 3
   },
   "file_extension": ".py",
   "mimetype": "text/x-python",
   "name": "python",
   "nbconvert_exporter": "python",
   "pygments_lexer": "ipython3",
   "version": "3.7.5"
  }
 },
 "nbformat": 4,
 "nbformat_minor": 1
}
